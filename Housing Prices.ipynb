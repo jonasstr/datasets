{
 "cells": [
  {
   "cell_type": "markdown",
   "metadata": {},
   "source": [
    "# Predicting housing prices using linear regression\n",
    "## Introduction\n",
    "The housing prices dataset contains prices of houses and their corresponding areas. In the following, we will apply a simple linear model to the dataset using linear regression.\n",
    "\n",
    "The dataset has been retrieved from kaggle but is no longer available:\n",
    "https://www.kaggle.com/merymery512/house-predection/data"
   ]
  },
  {
   "cell_type": "markdown",
   "metadata": {},
   "source": [
    "## Data overview"
   ]
  },
  {
   "cell_type": "code",
   "execution_count": 85,
   "metadata": {},
   "outputs": [],
   "source": [
    "import numpy as np\n",
    "import matplotlib.pyplot as plt\n",
    "import pandas as pd\n",
    "import seaborn as sns\n",
    "import matplotlib.lines as lines\n",
    "\n",
    "import warnings\n",
    "warnings.filterwarnings('ignore')\n",
    "\n",
    "path ='C:/Users/Jonas/Desktop/MLData/Kaggle01/'\n",
    "df = pd.read_csv(path + 'data.csv')"
   ]
  },
  {
   "cell_type": "code",
   "execution_count": 86,
   "metadata": {},
   "outputs": [
    {
     "name": "stdout",
     "output_type": "stream",
     "text": [
      "(545, 2)\n",
      "['loyer' 'surface']\n"
     ]
    }
   ],
   "source": [
    "# The dataset consists of 545 elements:\n",
    "print(df.shape)\n",
    "print(df.columns.values)"
   ]
  },
  {
   "cell_type": "markdown",
   "metadata": {},
   "source": [
    "__Rename columns:__"
   ]
  },
  {
   "cell_type": "code",
   "execution_count": 87,
   "metadata": {},
   "outputs": [
    {
     "name": "stdout",
     "output_type": "stream",
     "text": [
      "<class 'pandas.core.frame.DataFrame'>\n",
      "RangeIndex: 545 entries, 0 to 544\n",
      "Data columns (total 2 columns):\n",
      "Price    545 non-null int64\n",
      "Area     545 non-null int64\n",
      "dtypes: int64(2)\n",
      "memory usage: 8.6 KB\n"
     ]
    }
   ],
   "source": [
    "df.columns = ['Price', 'Area'] \n",
    "df.info()"
   ]
  },
  {
   "cell_type": "code",
   "execution_count": 88,
   "metadata": {},
   "outputs": [
    {
     "name": "stdout",
     "output_type": "stream",
     "text": [
      "1330\n"
     ]
    },
    {
     "data": {
      "text/html": [
       "<div>\n",
       "<style scoped>\n",
       "    .dataframe tbody tr th:only-of-type {\n",
       "        vertical-align: middle;\n",
       "    }\n",
       "\n",
       "    .dataframe tbody tr th {\n",
       "        vertical-align: top;\n",
       "    }\n",
       "\n",
       "    .dataframe thead th {\n",
       "        text-align: right;\n",
       "    }\n",
       "</style>\n",
       "<table border=\"1\" class=\"dataframe\">\n",
       "  <thead>\n",
       "    <tr style=\"text-align: right;\">\n",
       "      <th></th>\n",
       "      <th>Price</th>\n",
       "      <th>Area</th>\n",
       "    </tr>\n",
       "  </thead>\n",
       "  <tbody>\n",
       "    <tr>\n",
       "      <th>0</th>\n",
       "      <td>1330</td>\n",
       "      <td>37</td>\n",
       "    </tr>\n",
       "    <tr>\n",
       "      <th>1</th>\n",
       "      <td>1400</td>\n",
       "      <td>32</td>\n",
       "    </tr>\n",
       "    <tr>\n",
       "      <th>2</th>\n",
       "      <td>904</td>\n",
       "      <td>26</td>\n",
       "    </tr>\n",
       "    <tr>\n",
       "      <th>3</th>\n",
       "      <td>955</td>\n",
       "      <td>30</td>\n",
       "    </tr>\n",
       "    <tr>\n",
       "      <th>4</th>\n",
       "      <td>2545</td>\n",
       "      <td>70</td>\n",
       "    </tr>\n",
       "  </tbody>\n",
       "</table>\n",
       "</div>"
      ],
      "text/plain": [
       "   Price  Area\n",
       "0   1330    37\n",
       "1   1400    32\n",
       "2    904    26\n",
       "3    955    30\n",
       "4   2545    70"
      ]
     },
     "execution_count": 88,
     "metadata": {},
     "output_type": "execute_result"
    }
   ],
   "source": [
    "# Price of first element\n",
    "print(df.at[0,'Price'])\n",
    "df.head()"
   ]
  },
  {
   "cell_type": "code",
   "execution_count": 89,
   "metadata": {},
   "outputs": [
    {
     "data": {
      "text/html": [
       "<div>\n",
       "<style scoped>\n",
       "    .dataframe tbody tr th:only-of-type {\n",
       "        vertical-align: middle;\n",
       "    }\n",
       "\n",
       "    .dataframe tbody tr th {\n",
       "        vertical-align: top;\n",
       "    }\n",
       "\n",
       "    .dataframe thead th {\n",
       "        text-align: right;\n",
       "    }\n",
       "</style>\n",
       "<table border=\"1\" class=\"dataframe\">\n",
       "  <thead>\n",
       "    <tr style=\"text-align: right;\">\n",
       "      <th></th>\n",
       "      <th>Price</th>\n",
       "      <th>Area</th>\n",
       "    </tr>\n",
       "  </thead>\n",
       "  <tbody>\n",
       "    <tr>\n",
       "      <th>count</th>\n",
       "      <td>545.000000</td>\n",
       "      <td>545.000000</td>\n",
       "    </tr>\n",
       "    <tr>\n",
       "      <th>mean</th>\n",
       "      <td>2307.502752</td>\n",
       "      <td>63.236697</td>\n",
       "    </tr>\n",
       "    <tr>\n",
       "      <th>std</th>\n",
       "      <td>2201.364353</td>\n",
       "      <td>48.716475</td>\n",
       "    </tr>\n",
       "    <tr>\n",
       "      <th>min</th>\n",
       "      <td>488.000000</td>\n",
       "      <td>11.000000</td>\n",
       "    </tr>\n",
       "    <tr>\n",
       "      <th>25%</th>\n",
       "      <td>1255.000000</td>\n",
       "      <td>32.000000</td>\n",
       "    </tr>\n",
       "    <tr>\n",
       "      <th>50%</th>\n",
       "      <td>1795.000000</td>\n",
       "      <td>50.000000</td>\n",
       "    </tr>\n",
       "    <tr>\n",
       "      <th>75%</th>\n",
       "      <td>2600.000000</td>\n",
       "      <td>76.000000</td>\n",
       "    </tr>\n",
       "    <tr>\n",
       "      <th>max</th>\n",
       "      <td>25000.000000</td>\n",
       "      <td>415.000000</td>\n",
       "    </tr>\n",
       "  </tbody>\n",
       "</table>\n",
       "</div>"
      ],
      "text/plain": [
       "              Price        Area\n",
       "count    545.000000  545.000000\n",
       "mean    2307.502752   63.236697\n",
       "std     2201.364353   48.716475\n",
       "min      488.000000   11.000000\n",
       "25%     1255.000000   32.000000\n",
       "50%     1795.000000   50.000000\n",
       "75%     2600.000000   76.000000\n",
       "max    25000.000000  415.000000"
      ]
     },
     "execution_count": 89,
     "metadata": {},
     "output_type": "execute_result"
    }
   ],
   "source": [
    "df.describe()"
   ]
  },
  {
   "cell_type": "markdown",
   "metadata": {},
   "source": [
    "__Plot price as a function of area:__"
   ]
  },
  {
   "cell_type": "code",
   "execution_count": 90,
   "metadata": {},
   "outputs": [
    {
     "data": {
      "image/png": "[encoded data removed]",
      "text/plain": [
       "<matplotlib.figure.Figure at 0xb20f780>"
      ]
     },
     "metadata": {},
     "output_type": "display_data"
    }
   ],
   "source": [
    "fig, ax = plt.subplots()\n",
    "ax.scatter(x = df.Price, y = df.Area, s = 8)\n",
    "\n",
    "plt.xlabel(\"price\")\n",
    "plt.ylabel(\"area\")\n",
    "plt.show()"
   ]
  },
  {
   "cell_type": "markdown",
   "metadata": {},
   "source": [
    "## __Feature scaling__"
   ]
  },
  {
   "cell_type": "code",
   "execution_count": 91,
   "metadata": {},
   "outputs": [
    {
     "data": {
      "image/png": "[encoded data removed]",
      "text/plain": [
       "<matplotlib.figure.Figure at 0xb274e48>"
      ]
     },
     "metadata": {},
     "output_type": "display_data"
    }
   ],
   "source": [
    "size = df.shape[0]\n",
    "\n",
    "# scale price\n",
    "p = np.array(df.loc[:,'Price'])\n",
    "sclPrice = (p - p.mean()) / p.std()\n",
    "\n",
    "# scale area\n",
    "a = np.array(df.loc[:,'Area'])\n",
    "sclArea = (a - a.mean()) / a.std()\n",
    "\n",
    "fig, ax = plt.subplots()\n",
    "ax.scatter(x = sclPrice, y = sclArea, s = 8)\n",
    "\n",
    "plt.xlabel(\"scaled price\")\n",
    "plt.ylabel(\"scaled area\")\n",
    "plt.show()"
   ]
  },
  {
   "cell_type": "markdown",
   "metadata": {},
   "source": [
    "## Linear Regression\n",
    "__Draw arbitrary line of the form__\n",
    "\n",
    "f(x) = mx + b"
   ]
  },
  {
   "cell_type": "code",
   "execution_count": 92,
   "metadata": {},
   "outputs": [
    {
     "data": {
      "image/png": "[encoded data removed]",
      "text/plain": [
       "<matplotlib.figure.Figure at 0xb2a49b0>"
      ]
     },
     "metadata": {},
     "output_type": "display_data"
    }
   ],
   "source": [
    "# arbitrary values\n",
    "m = 0.7\n",
    "b = 2\n",
    "def f(x):\n",
    "    return m*x+b\n",
    "\n",
    "def drawGraph(x, y, s):\n",
    "    fig, ax = plt.subplots()\n",
    "    ax.scatter(x, y, s = 8)\n",
    "    plt.xlabel(s+' price')\n",
    "    plt.ylabel(s+' area')\n",
    "\n",
    "    line1 = [(0, f(0)), (30000,f(30000))]\n",
    "    (line1_xs, line1_ys) = zip(*line1)\n",
    "\n",
    "    ax.add_line(lines.Line2D(line1_xs, line1_ys, linewidth=2, color='blue'))\n",
    "    plt.show()\n",
    "    \n",
    "drawGraph(sclPrice, sclArea, 'scaled')"
   ]
  },
  {
   "cell_type": "markdown",
   "metadata": {},
   "source": [
    "__Compute error of that line:__"
   ]
  },
  {
   "cell_type": "code",
   "execution_count": 93,
   "metadata": {},
   "outputs": [
    {
     "name": "stdout",
     "output_type": "stream",
     "text": [
      "Error before training 2.110312016374034\n"
     ]
    }
   ],
   "source": [
    "def computeMSE(xvals, yvals):\n",
    "    mse = 0\n",
    "    for i in range(size):\n",
    "        target = yvals[i]\n",
    "        x = xvals[i]\n",
    "        mse += (f(x)-target)**2\n",
    "    mse *= 1/(2*size)\n",
    "    return mse\n",
    "\n",
    "print('Error before training', computeMSE(sclPrice, sclArea))\n",
    "# compute error before training (unscaled) for later use\n",
    "err = computeMSE(df.Price, df.Area)"
   ]
  },
  {
   "cell_type": "markdown",
   "metadata": {
    "collapsed": true
   },
   "source": [
    "__Train model by adjusting m and b:__"
   ]
  },
  {
   "cell_type": "code",
   "execution_count": 94,
   "metadata": {},
   "outputs": [
    {
     "name": "stdout",
     "output_type": "stream",
     "text": [
      "Completed epoch 10 / 50 Error 0.16730\n",
      "Completed epoch 20 / 50 Error 0.09199\n",
      "Completed epoch 30 / 50 Error 0.08907\n",
      "Completed epoch 40 / 50 Error 0.08895\n",
      "Completed epoch 50 / 50 Error 0.08895\n"
     ]
    }
   ],
   "source": [
    "alphaM = 0.15\n",
    "alphaB = 0.15\n",
    "\n",
    "def train():\n",
    "    size = df.shape[0]\n",
    "    global m\n",
    "    global b\n",
    "    mDerived = 0\n",
    "    bDerived = 0\n",
    "\n",
    "    for i in range(size):\n",
    "        target = sclArea[i]\n",
    "        x = sclPrice[i]\n",
    "        mDerived += (f(x)-target) * x\n",
    "        bDerived += (f(x)-target)\n",
    "\n",
    "    mDerived /= size\n",
    "    bDerived /= size\n",
    "\n",
    "    m -= alphaM*mDerived\n",
    "    b -= alphaB*bDerived\n",
    "   \n",
    "n = 50\n",
    "display_step = 10\n",
    "# train n times\n",
    "for x in range(n):\n",
    "    train()\n",
    "    # compute new error\n",
    "    if (x+1) % display_step == 0:\n",
    "        print('Completed epoch', '%d' % (x+1), '/', '%d' % n,\n",
    "              'Error', '%.5f' % computeMSE(sclPrice, sclArea))"
   ]
  },
  {
   "cell_type": "code",
   "execution_count": 95,
   "metadata": {},
   "outputs": [
    {
     "data": {
      "image/png": "[encoded data removed]",
      "text/plain": [
       "<matplotlib.figure.Figure at 0xb338630>"
      ]
     },
     "metadata": {},
     "output_type": "display_data"
    },
    {
     "name": "stdout",
     "output_type": "stream",
     "text": [
      "Error after training: 0.088950343598468\n",
      "New m and b: f(x) = 0.9066359857616383 x + 0.000591529327425355\n"
     ]
    }
   ],
   "source": [
    "drawGraph(sclPrice, sclArea, 'scaled')\n",
    "print('Error after training:', computeMSE(sclPrice,sclArea))\n",
    "print('New m and b: f(x) =',m,'x +',b)"
   ]
  },
  {
   "cell_type": "markdown",
   "metadata": {
    "collapsed": true
   },
   "source": [
    "__Undo feature scaling:__"
   ]
  },
  {
   "cell_type": "code",
   "execution_count": 96,
   "metadata": {},
   "outputs": [
    {
     "data": {
      "image/png": "[encoded data removed]",
      "text/plain": [
       "<matplotlib.figure.Figure at 0xb38d0f0>"
      ]
     },
     "metadata": {},
     "output_type": "display_data"
    },
    {
     "name": "stdout",
     "output_type": "stream",
     "text": [
      "Error before training: 2325818.116357798\n",
      "Error after training: 356.5526348012638\n"
     ]
    }
   ],
   "source": [
    "origPrice = sclPrice * p.std() + p.mean()\n",
    "origArea = sclArea * a.std() + a.mean()\n",
    "\n",
    "m = origArea[0]/origPrice[0]\n",
    "scl = origArea[0]/sclPrice[0]\n",
    "b *= scl\n",
    "\n",
    "drawGraph(df.Price, df.Area, '')\n",
    "\n",
    "newErr = computeMSE(df.Price,df.Area)\n",
    "print('Error before training:',err)\n",
    "print('Error after training:',newErr)"
   ]
  },
  {
   "cell_type": "markdown",
   "metadata": {},
   "source": [
    "## Conclusion\n",
    "We successfully applied a linear regression model to the dataset by gradually changing the parameters of the linear function. The model can now be used to predict the housing area given the price."
   ]
  }
 ],
 "metadata": {
  "kernelspec": {
   "display_name": "Python 3",
   "language": "python",
   "name": "python3"
  },
  "language_info": {
   "codemirror_mode": {
    "name": "ipython",
    "version": 3
   },
   "file_extension": ".py",
   "mimetype": "text/x-python",
   "name": "python",
   "nbconvert_exporter": "python",
   "pygments_lexer": "ipython3",
   "version": "3.6.4"
  }
 },
 "nbformat": 4,
 "nbformat_minor": 2
}
